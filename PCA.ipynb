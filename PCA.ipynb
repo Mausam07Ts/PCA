{
  "nbformat": 4,
  "nbformat_minor": 0,
  "metadata": {
    "kernelspec": {
      "display_name": "Python 3",
      "language": "python",
      "name": "python3"
    },
    "language_info": {
      "codemirror_mode": {
        "name": "ipython",
        "version": 3
      },
      "file_extension": ".py",
      "mimetype": "text/x-python",
      "name": "python",
      "nbconvert_exporter": "python",
      "pygments_lexer": "ipython3",
      "version": "3.7.4"
    },
    "colab": {
      "name": "PCA.ipynb",
      "provenance": [],
      "collapsed_sections": []
    }
  },
  "cells": [
    {
      "cell_type": "code",
      "metadata": {
        "id": "T0EU-hBQOlsg"
      },
      "source": [
        "import pandas as pd \n",
        "import numpy as np\n",
        "from sklearn.decomposition import PCA\n",
        "import matplotlib.pyplot as plt\n",
        "from sklearn.preprocessing import scale "
      ],
      "execution_count": null,
      "outputs": []
    },
    {
      "cell_type": "code",
      "metadata": {
        "id": "J2ntSHEdOlsk"
      },
      "source": [
        "uni = pd.read_csv(\"PCA.csv\")\n",
        "uni.describe()\n",
        "uni.head()"
      ],
      "execution_count": null,
      "outputs": []
    },
    {
      "cell_type": "code",
      "metadata": {
        "id": "4yki9tOsOlsl"
      },
      "source": [
        "# Considering only numerical data \n",
        "uni.data = uni.iloc[:,1:]\n",
        "uni.data.head()\n",
        "# Converting into numpy array\n",
        "UNI = uni.data.values\n",
        "UNI"
      ],
      "execution_count": null,
      "outputs": []
    },
    {
      "cell_type": "code",
      "metadata": {
        "id": "VmZYS__tOlsm"
      },
      "source": [
        "# Normalizing the numerical data \n",
        "uni_normal = scale(UNI)"
      ],
      "execution_count": null,
      "outputs": []
    },
    {
      "cell_type": "code",
      "metadata": {
        "id": "BvQMR0FiOlsn"
      },
      "source": [
        "uni_normal"
      ],
      "execution_count": null,
      "outputs": []
    },
    {
      "cell_type": "code",
      "metadata": {
        "id": "qe8xOCygOlsn"
      },
      "source": [
        "pca = PCA()\n",
        "pca_values = pca.fit_transform(uni_normal)"
      ],
      "execution_count": null,
      "outputs": []
    },
    {
      "cell_type": "code",
      "metadata": {
        "id": "boGGslJwOlso"
      },
      "source": [
        "pca_values"
      ],
      "execution_count": null,
      "outputs": []
    },
    {
      "cell_type": "code",
      "metadata": {
        "id": "HrzykUu7Olsp"
      },
      "source": [
        "pca = PCA(n_components = 6)\n",
        "pca_values = pca.fit_transform(uni_normal)"
      ],
      "execution_count": null,
      "outputs": []
    },
    {
      "cell_type": "code",
      "metadata": {
        "id": "_lGPjWVlOlsq"
      },
      "source": [
        "# The amount of variance that each PCA explains is \n",
        "var = pca.explained_variance_ratio_\n",
        "var"
      ],
      "execution_count": null,
      "outputs": []
    },
    {
      "cell_type": "code",
      "metadata": {
        "id": "_LEJQvitOlsr"
      },
      "source": [
        "# Cumulative variance \n",
        "var1 = np.cumsum(np.round(var,decimals = 4)*100)\n",
        "var1"
      ],
      "execution_count": null,
      "outputs": []
    },
    {
      "cell_type": "code",
      "metadata": {
        "id": "By4ohy-rOlss"
      },
      "source": [
        "pca.components_"
      ],
      "execution_count": null,
      "outputs": []
    },
    {
      "cell_type": "code",
      "metadata": {
        "id": "YJhWRAw5Olss"
      },
      "source": [
        "# Variance plot for PCA components obtained \n",
        "plt.plot(var1,color=\"red\")"
      ],
      "execution_count": null,
      "outputs": []
    },
    {
      "cell_type": "code",
      "metadata": {
        "id": "g0vv8StUOlst"
      },
      "source": [
        " pca_values[:,0:1]"
      ],
      "execution_count": null,
      "outputs": []
    },
    {
      "cell_type": "code",
      "metadata": {
        "id": "_LHjGNXcOlst"
      },
      "source": [
        "# plot between PCA1 and PCA2 \n",
        "x = pca_values[:,0:1]\n",
        "y = pca_values[:,1:2]\n",
        "#z = pca_values[:2:3]\n",
        "plt.scatter(x,y)"
      ],
      "execution_count": null,
      "outputs": []
    },
    {
      "cell_type": "code",
      "metadata": {
        "id": "2EXty5MqOlsu"
      },
      "source": [
        "finalDf = pd.concat([pd.DataFrame(pca_values[:,0:2],columns=['pc1','pc2']), uni[['Univ']]], axis = 1)"
      ],
      "execution_count": null,
      "outputs": []
    },
    {
      "cell_type": "code",
      "metadata": {
        "id": "dn1lhBcJQL00"
      },
      "source": [
        "finalDf"
      ],
      "execution_count": null,
      "outputs": []
    },
    {
      "cell_type": "code",
      "metadata": {
        "id": "5jA1GSTdOlsu"
      },
      "source": [
        "import seaborn as sns\n",
        "sns.scatterplot(data=finalDf,x='pc1',y='pc2',hue='Univ')"
      ],
      "execution_count": null,
      "outputs": []
    },
    {
      "cell_type": "code",
      "metadata": {
        "id": "t68bA84PQVld"
      },
      "source": [
        ""
      ],
      "execution_count": null,
      "outputs": []
    }
  ]
}